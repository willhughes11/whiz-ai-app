{
 "cells": [
  {
   "cell_type": "code",
   "execution_count": 76,
   "metadata": {},
   "outputs": [],
   "source": [
    "import weaviate\n",
    "from weaviate.embedded import EmbeddedOptions"
   ]
  },
  {
   "cell_type": "code",
   "execution_count": 77,
   "metadata": {},
   "outputs": [
    {
     "name": "stdout",
     "output_type": "stream",
     "text": [
      "embedded weaviate is already listening on port 8079\n"
     ]
    }
   ],
   "source": [
    "client = weaviate.Client(\n",
    "    embedded_options=EmbeddedOptions(\n",
    "        additional_env_vars={\n",
    "            \"ENABLE_MODULES\": \"backup-s3,text2vec-openai,text2vec-cohere,text2vec-huggingface,ref2vec-centroid,generative-openai,qna-openai\"\n",
    "        }\n",
    "    )\n",
    ")"
   ]
  },
  {
   "cell_type": "code",
   "execution_count": 78,
   "metadata": {},
   "outputs": [],
   "source": [
    "questions = client.data_object.get_by_id(\"c123e54e-0174-49e1-a318-96fedea484cf\", class_name=\"Chatpdf\")\n",
    "questions"
   ]
  },
  {
   "cell_type": "code",
   "execution_count": 79,
   "metadata": {},
   "outputs": [
    {
     "name": "stderr",
     "output_type": "stream",
     "text": [
      "{\"action\":\"requests_total\",\"api\":\"graphql\",\"class_name\":\"\",\"error\":\"Unknown argument \\\"nearText\\\" on field \\\"Chatpdf\\\" of type \\\"GetObjectsObj\\\". Did you mean \\\"nearVector\\\" or \\\"nearObject\\\"?\",\"level\":\"error\",\"msg\":\"unexpected error\",\"query_type\":\"\",\"time\":\"2023-12-18T01:38:46-05:00\"}\n"
     ]
    },
    {
     "data": {
      "text/plain": [
       "{'errors': [{'locations': [{'column': 23, 'line': 1}],\n",
       "   'message': 'Unknown argument \"nearText\" on field \"Chatpdf\" of type \"GetObjectsObj\". Did you mean \"nearVector\" or \"nearObject\"?',\n",
       "   'path': None}]}"
      ]
     },
     "execution_count": 79,
     "metadata": {},
     "output_type": "execute_result"
    }
   ],
   "source": [
    "client.query.get(\n",
    "    class_name=\"Chatpdf\", properties=[\"chunk\", \"file_name\"]\n",
    ").with_near_text({\"concepts\": [\"history of git\"]}).with_limit(3).do()"
   ]
  }
 ],
 "metadata": {
  "kernelspec": {
   "display_name": ".venv",
   "language": "python",
   "name": "python3"
  },
  "language_info": {
   "codemirror_mode": {
    "name": "ipython",
    "version": 3
   },
   "file_extension": ".py",
   "mimetype": "text/x-python",
   "name": "python",
   "nbconvert_exporter": "python",
   "pygments_lexer": "ipython3",
   "version": "3.11.6"
  }
 },
 "nbformat": 4,
 "nbformat_minor": 2
}
