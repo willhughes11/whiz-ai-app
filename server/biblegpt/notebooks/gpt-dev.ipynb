{
 "cells": [
  {
   "cell_type": "code",
   "execution_count": 13,
   "metadata": {},
   "outputs": [
    {
     "name": "stdout",
     "output_type": "stream",
     "text": [
      "--2023-12-21 22:13:42--  https://raw.githubusercontent.com/mxw/grmr/master/src/finaltests/bible.txt\n"
     ]
    },
    {
     "name": "stdout",
     "output_type": "stream",
     "text": [
      "Resolving raw.githubusercontent.com (raw.githubusercontent.com)... 2606:50c0:8000::154, 2606:50c0:8001::154, 2606:50c0:8003::154, ...\n",
      "Connecting to raw.githubusercontent.com (raw.githubusercontent.com)|2606:50c0:8000::154|:443... connected.\n",
      "HTTP request sent, awaiting response... 200 OK\n",
      "Length: 4451368 (4.2M) [text/plain]\n",
      "Saving to: ‘bible.txt.1’\n",
      "\n",
      "bible.txt.1         100%[===================>]   4.25M  --.-KB/s    in 0.1s    \n",
      "\n",
      "2023-12-21 22:13:42 (29.1 MB/s) - ‘bible.txt.1’ saved [4451368/4451368]\n",
      "\n"
     ]
    }
   ],
   "source": [
    "!wget https://raw.githubusercontent.com/mxw/grmr/master/src/finaltests/bible.txt"
   ]
  },
  {
   "cell_type": "code",
   "execution_count": 14,
   "metadata": {},
   "outputs": [],
   "source": [
    "with open(\"bible.txt\", \"r\", encoding=\"utf-8\") as f:\n",
    "    text = f.read()"
   ]
  },
  {
   "cell_type": "code",
   "execution_count": 15,
   "metadata": {},
   "outputs": [
    {
     "name": "stdout",
     "output_type": "stream",
     "text": [
      "4351186\n"
     ]
    }
   ],
   "source": [
    "print(len(text))"
   ]
  },
  {
   "cell_type": "code",
   "execution_count": 16,
   "metadata": {},
   "outputs": [
    {
     "name": "stdout",
     "output_type": "stream",
     "text": [
      "1:1 In the beginning God created the heaven and the earth.\n",
      "\n",
      "1:2 And the earth was without form, and void; and darkness was upon\n",
      "the face of the deep. And the Spirit of God moved upon the face of the\n",
      "waters.\n",
      "\n",
      "1:3 And God said, Let there be light: and there was light.\n",
      "\n",
      "1:4 And God saw the light, that it was good: and God divided the light\n",
      "from the darkness.\n",
      "\n",
      "1:5 And God called the light Day, and the darkness he called Night.\n",
      "And the evening and the morning were the first day.\n",
      "\n",
      "1:6 And God said, Let there be a firmament in the midst of the waters,\n",
      "and let it divide the waters from the waters.\n",
      "\n",
      "1:7 And God made the firmament, and divided the waters which were\n",
      "under the firmament from the waters which were above the firmament:\n",
      "and it was so.\n",
      "\n",
      "1:8 And God called the firmament Heaven. And the evening and the\n",
      "morning were the second day.\n",
      "\n",
      "1:9 And God said, Let the waters under the heaven be gathered together\n",
      "unto one place, and let the dry land appear: and it was so.\n",
      "\n",
      "1:10 And God called the d\n"
     ]
    }
   ],
   "source": [
    "print(text[:1000])"
   ]
  },
  {
   "cell_type": "code",
   "execution_count": 17,
   "metadata": {},
   "outputs": [
    {
     "name": "stdout",
     "output_type": "stream",
     "text": [
      "\n",
      " !\"$%'()*,-./0123456789:;?@ABCDEFGHIJKLMNOPQRSTUVWXYZabcdefghijklmnopqrstuvwxyz\n",
      "80\n"
     ]
    }
   ],
   "source": [
    "chars = sorted(list(set(text)))\n",
    "vocab_size = len(chars)\n",
    "print(\"\".join(chars))\n",
    "print(vocab_size)"
   ]
  },
  {
   "cell_type": "code",
   "execution_count": 18,
   "metadata": {},
   "outputs": [
    {
     "name": "stdout",
     "output_type": "stream",
     "text": [
      "[47, 58, 72, 73]\n",
      "Test\n"
     ]
    }
   ],
   "source": [
    "stoi = {ch: i for i, ch in enumerate(chars)}\n",
    "itos = {i: ch for i, ch in enumerate(chars)}\n",
    "encode = lambda s: [stoi[c] for c in s]\n",
    "decode = lambda l: \"\".join([itos[i] for i in l])\n",
    "\n",
    "print(encode(\"Test\"))\n",
    "print(decode(encode(\"Test\")))"
   ]
  },
  {
   "cell_type": "code",
   "execution_count": 19,
   "metadata": {},
   "outputs": [
    {
     "name": "stdout",
     "output_type": "stream",
     "text": [
      "torch.Size([4351186]) torch.int64\n",
      "tensor([15, 24, 15,  1, 36, 67,  1, 73, 61, 58,  1, 55, 58, 60, 62, 67, 67, 62,\n",
      "        67, 60,  1, 34, 68, 57,  1, 56, 71, 58, 54, 73, 58, 57,  1, 73, 61, 58,\n",
      "         1, 61, 58, 54, 75, 58, 67,  1, 54, 67, 57,  1, 73, 61, 58,  1, 58, 54,\n",
      "        71, 73, 61, 12,  0,  0, 15, 24, 16,  1, 28, 67, 57,  1, 73, 61, 58,  1,\n",
      "        58, 54, 71, 73, 61,  1, 76, 54, 72,  1, 76, 62, 73, 61, 68, 74, 73,  1,\n",
      "        59, 68, 71, 66, 10,  1, 54, 67, 57,  1, 75, 68, 62, 57, 25,  1, 54, 67,\n",
      "        57,  1, 57, 54, 71, 64, 67, 58, 72, 72,  1, 76, 54, 72,  1, 74, 69, 68,\n",
      "        67,  0, 73, 61, 58,  1, 59, 54, 56, 58,  1, 68, 59,  1, 73, 61, 58,  1,\n",
      "        57, 58, 58, 69, 12,  1, 28, 67, 57,  1, 73, 61, 58,  1, 46, 69, 62, 71,\n",
      "        62, 73,  1, 68, 59,  1, 34, 68, 57,  1, 66, 68, 75, 58, 57,  1, 74, 69,\n",
      "        68, 67,  1, 73, 61, 58,  1, 59, 54, 56, 58,  1, 68, 59,  1, 73, 61, 58,\n",
      "         0, 76, 54, 73, 58, 71, 72, 12,  0,  0, 15, 24, 17,  1, 28, 67, 57,  1,\n",
      "        34, 68, 57,  1, 72, 54, 62, 57, 10,  1, 39, 58, 73,  1, 73, 61, 58, 71,\n",
      "        58,  1, 55, 58,  1, 65, 62, 60, 61, 73, 24,  1, 54, 67, 57,  1, 73, 61,\n",
      "        58, 71, 58,  1, 76, 54, 72,  1, 65, 62, 60, 61, 73, 12,  0,  0, 15, 24,\n",
      "        18,  1, 28, 67, 57,  1, 34, 68, 57,  1, 72, 54, 76,  1, 73, 61, 58,  1,\n",
      "        65, 62, 60, 61, 73, 10,  1, 73, 61, 54, 73,  1, 62, 73,  1, 76, 54, 72,\n",
      "         1, 60, 68, 68, 57, 24,  1, 54, 67, 57,  1, 34, 68, 57,  1, 57, 62, 75,\n",
      "        62, 57, 58, 57,  1, 73, 61, 58,  1, 65, 62, 60, 61, 73,  0, 59, 71, 68,\n",
      "        66,  1, 73, 61, 58,  1, 57, 54, 71, 64, 67, 58, 72, 72, 12,  0,  0, 15,\n",
      "        24, 19,  1, 28, 67, 57,  1, 34, 68, 57,  1, 56, 54, 65, 65, 58, 57,  1,\n",
      "        73, 61, 58,  1, 65, 62, 60, 61, 73,  1, 31, 54, 78, 10,  1, 54, 67, 57,\n",
      "         1, 73, 61, 58,  1, 57, 54, 71, 64, 67, 58, 72, 72,  1, 61, 58,  1, 56,\n",
      "        54, 65, 65, 58, 57,  1, 41, 62, 60, 61, 73, 12,  0, 28, 67, 57,  1, 73,\n",
      "        61, 58,  1, 58, 75, 58, 67, 62, 67, 60,  1, 54, 67, 57,  1, 73, 61, 58,\n",
      "         1, 66, 68, 71, 67, 62, 67, 60,  1, 76, 58, 71, 58,  1, 73, 61, 58,  1,\n",
      "        59, 62, 71, 72, 73,  1, 57, 54, 78, 12,  0,  0, 15, 24, 20,  1, 28, 67,\n",
      "        57,  1, 34, 68, 57,  1, 72, 54, 62, 57, 10,  1, 39, 58, 73,  1, 73, 61,\n",
      "        58, 71, 58,  1, 55, 58,  1, 54,  1, 59, 62, 71, 66, 54, 66, 58, 67, 73,\n",
      "         1, 62, 67,  1, 73, 61, 58,  1, 66, 62, 57, 72, 73,  1, 68, 59,  1, 73,\n",
      "        61, 58,  1, 76, 54, 73, 58, 71, 72, 10,  0, 54, 67, 57,  1, 65, 58, 73,\n",
      "         1, 62, 73,  1, 57, 62, 75, 62, 57, 58,  1, 73, 61, 58,  1, 76, 54, 73,\n",
      "        58, 71, 72,  1, 59, 71, 68, 66,  1, 73, 61, 58,  1, 76, 54, 73, 58, 71,\n",
      "        72, 12,  0,  0, 15, 24, 21,  1, 28, 67, 57,  1, 34, 68, 57,  1, 66, 54,\n",
      "        57, 58,  1, 73, 61, 58,  1, 59, 62, 71, 66, 54, 66, 58, 67, 73, 10,  1,\n",
      "        54, 67, 57,  1, 57, 62, 75, 62, 57, 58, 57,  1, 73, 61, 58,  1, 76, 54,\n",
      "        73, 58, 71, 72,  1, 76, 61, 62, 56, 61,  1, 76, 58, 71, 58,  0, 74, 67,\n",
      "        57, 58, 71,  1, 73, 61, 58,  1, 59, 62, 71, 66, 54, 66, 58, 67, 73,  1,\n",
      "        59, 71, 68, 66,  1, 73, 61, 58,  1, 76, 54, 73, 58, 71, 72,  1, 76, 61,\n",
      "        62, 56, 61,  1, 76, 58, 71, 58,  1, 54, 55, 68, 75, 58,  1, 73, 61, 58,\n",
      "         1, 59, 62, 71, 66, 54, 66, 58, 67, 73, 24,  0, 54, 67, 57,  1, 62, 73,\n",
      "         1, 76, 54, 72,  1, 72, 68, 12,  0,  0, 15, 24, 22,  1, 28, 67, 57,  1,\n",
      "        34, 68, 57,  1, 56, 54, 65, 65, 58, 57,  1, 73, 61, 58,  1, 59, 62, 71,\n",
      "        66, 54, 66, 58, 67, 73,  1, 35, 58, 54, 75, 58, 67, 12,  1, 28, 67, 57,\n",
      "         1, 73, 61, 58,  1, 58, 75, 58, 67, 62, 67, 60,  1, 54, 67, 57,  1, 73,\n",
      "        61, 58,  0, 66, 68, 71, 67, 62, 67, 60,  1, 76, 58, 71, 58,  1, 73, 61,\n",
      "        58,  1, 72, 58, 56, 68, 67, 57,  1, 57, 54, 78, 12,  0,  0, 15, 24, 23,\n",
      "         1, 28, 67, 57,  1, 34, 68, 57,  1, 72, 54, 62, 57, 10,  1, 39, 58, 73,\n",
      "         1, 73, 61, 58,  1, 76, 54, 73, 58, 71, 72,  1, 74, 67, 57, 58, 71,  1,\n",
      "        73, 61, 58,  1, 61, 58, 54, 75, 58, 67,  1, 55, 58,  1, 60, 54, 73, 61,\n",
      "        58, 71, 58, 57,  1, 73, 68, 60, 58, 73, 61, 58, 71,  0, 74, 67, 73, 68,\n",
      "         1, 68, 67, 58,  1, 69, 65, 54, 56, 58, 10,  1, 54, 67, 57,  1, 65, 58,\n",
      "        73,  1, 73, 61, 58,  1, 57, 71, 78,  1, 65, 54, 67, 57,  1, 54, 69, 69,\n",
      "        58, 54, 71, 24,  1, 54, 67, 57,  1, 62, 73,  1, 76, 54, 72,  1, 72, 68,\n",
      "        12,  0,  0, 15, 24, 15, 14,  1, 28, 67, 57,  1, 34, 68, 57,  1, 56, 54,\n",
      "        65, 65, 58, 57,  1, 73, 61, 58,  1, 57])\n"
     ]
    }
   ],
   "source": [
    "import torch\n",
    "data = torch.tensor(encode(text), dtype=torch.long)\n",
    "print(data.shape, data.dtype)\n",
    "print(data[:1000])"
   ]
  },
  {
   "cell_type": "code",
   "execution_count": 24,
   "metadata": {},
   "outputs": [],
   "source": [
    "n = int(0.9*len(data))\n",
    "train_data = data[:n]\n",
    "val_data = data[n:]"
   ]
  },
  {
   "cell_type": "code",
   "execution_count": 25,
   "metadata": {},
   "outputs": [
    {
     "data": {
      "text/plain": [
       "tensor([15, 24, 15,  1, 36, 67,  1, 73, 61])"
      ]
     },
     "execution_count": 25,
     "metadata": {},
     "output_type": "execute_result"
    }
   ],
   "source": [
    "block_size = 8\n",
    "train_data[:block_size+1]"
   ]
  },
  {
   "cell_type": "code",
   "execution_count": 27,
   "metadata": {},
   "outputs": [
    {
     "name": "stdout",
     "output_type": "stream",
     "text": [
      "when input is tensor([15]) the target: 24\n",
      "when input is tensor([15, 24]) the target: 15\n",
      "when input is tensor([15, 24, 15]) the target: 1\n",
      "when input is tensor([15, 24, 15,  1]) the target: 36\n",
      "when input is tensor([15, 24, 15,  1, 36]) the target: 67\n",
      "when input is tensor([15, 24, 15,  1, 36, 67]) the target: 1\n",
      "when input is tensor([15, 24, 15,  1, 36, 67,  1]) the target: 73\n",
      "when input is tensor([15, 24, 15,  1, 36, 67,  1, 73]) the target: 61\n"
     ]
    }
   ],
   "source": [
    "x = train_data[:block_size]\n",
    "y = train_data[1 : block_size + 1]\n",
    "for t in range(block_size):\n",
    "    context = x[: t + 1]\n",
    "    target = y[t]\n",
    "    print(f\"when input is {context} the target: {target}\")"
   ]
  },
  {
   "cell_type": "code",
   "execution_count": 28,
   "metadata": {},
   "outputs": [
    {
     "name": "stdout",
     "output_type": "stream",
     "text": [
      "inputs:\n",
      "torch.Size([4, 8])\n",
      "tensor([[10,  1, 62, 59,  1, 73, 61, 58],\n",
      "        [20,  1, 47, 61, 58, 71, 58, 59],\n",
      "        [68,  1, 66, 78,  1, 72, 68, 67],\n",
      "        [60,  1, 73, 68,  1, 28, 54, 71]])\n",
      "targets:\n",
      "torch.Size([4, 8])\n",
      "tensor([[ 1, 62, 59,  1, 73, 61, 58,  1],\n",
      "        [ 1, 47, 61, 58, 71, 58, 59, 68],\n",
      "        [ 1, 66, 78,  1, 72, 68, 67,  1],\n",
      "        [ 1, 73, 68,  1, 28, 54, 71, 68]])\n",
      "----\n",
      "when input is [10] the target: 1\n",
      "when input is [10, 1] the target: 62\n",
      "when input is [10, 1, 62] the target: 59\n",
      "when input is [10, 1, 62, 59] the target: 1\n",
      "when input is [10, 1, 62, 59, 1] the target: 73\n",
      "when input is [10, 1, 62, 59, 1, 73] the target: 61\n",
      "when input is [10, 1, 62, 59, 1, 73, 61] the target: 58\n",
      "when input is [10, 1, 62, 59, 1, 73, 61, 58] the target: 1\n",
      "when input is [20] the target: 1\n",
      "when input is [20, 1] the target: 47\n",
      "when input is [20, 1, 47] the target: 61\n",
      "when input is [20, 1, 47, 61] the target: 58\n",
      "when input is [20, 1, 47, 61, 58] the target: 71\n",
      "when input is [20, 1, 47, 61, 58, 71] the target: 58\n",
      "when input is [20, 1, 47, 61, 58, 71, 58] the target: 59\n",
      "when input is [20, 1, 47, 61, 58, 71, 58, 59] the target: 68\n",
      "when input is [68] the target: 1\n",
      "when input is [68, 1] the target: 66\n",
      "when input is [68, 1, 66] the target: 78\n",
      "when input is [68, 1, 66, 78] the target: 1\n",
      "when input is [68, 1, 66, 78, 1] the target: 72\n",
      "when input is [68, 1, 66, 78, 1, 72] the target: 68\n",
      "when input is [68, 1, 66, 78, 1, 72, 68] the target: 67\n",
      "when input is [68, 1, 66, 78, 1, 72, 68, 67] the target: 1\n",
      "when input is [60] the target: 1\n",
      "when input is [60, 1] the target: 73\n",
      "when input is [60, 1, 73] the target: 68\n",
      "when input is [60, 1, 73, 68] the target: 1\n",
      "when input is [60, 1, 73, 68, 1] the target: 28\n",
      "when input is [60, 1, 73, 68, 1, 28] the target: 54\n",
      "when input is [60, 1, 73, 68, 1, 28, 54] the target: 71\n",
      "when input is [60, 1, 73, 68, 1, 28, 54, 71] the target: 68\n"
     ]
    }
   ],
   "source": [
    "torch.manual_seed(1337)\n",
    "batch_size = 4\n",
    "block_size = 8\n",
    "\n",
    "def get_batch(split):\n",
    "    data = train_data if split == \"train\" else val_data\n",
    "    ix = torch.randint(len(data) - block_size, (batch_size,))\n",
    "    x = torch.stack([data[i:i+block_size] for i in ix])\n",
    "    y = torch.stack([data[i+1:i+block_size+1] for i in ix])\n",
    "\n",
    "    return x,y\n",
    "\n",
    "xb, yb = get_batch(\"train\")\n",
    "print(\"inputs:\")\n",
    "print(xb.shape)\n",
    "print(xb)\n",
    "print(\"targets:\")\n",
    "print(yb.shape)\n",
    "print(yb)\n",
    "print(\"----\")\n",
    "\n",
    "for b in range(batch_size):\n",
    "    for t in range(block_size):\n",
    "        context = xb[b, :t+1]\n",
    "        target = yb[b,t]\n",
    "        print(f\"when input is {context.tolist()} the target: {target}\")"
   ]
  },
  {
   "cell_type": "code",
   "execution_count": 29,
   "metadata": {},
   "outputs": [
    {
     "name": "stdout",
     "output_type": "stream",
     "text": [
      "tensor([[10,  1, 62, 59,  1, 73, 61, 58],\n",
      "        [20,  1, 47, 61, 58, 71, 58, 59],\n",
      "        [68,  1, 66, 78,  1, 72, 68, 67],\n",
      "        [60,  1, 73, 68,  1, 28, 54, 71]])\n"
     ]
    }
   ],
   "source": [
    "print(xb)"
   ]
  },
  {
   "cell_type": "code",
   "execution_count": 34,
   "metadata": {},
   "outputs": [
    {
     "name": "stdout",
     "output_type": "stream",
     "text": [
      "torch.Size([32, 80])\n",
      "tensor(4.9457, grad_fn=<NllLossBackward0>)\n",
      "\n",
      "RPYzZ?,3T/79PFY1CMMK9p!\"YANd,3@htpf,5tM.U9!BJ0)!B(DdNc;P4/6HM2FabwCPJNFYBfJ)sb'F)YJoEIg!mnV-7B:!x5v1\n"
     ]
    }
   ],
   "source": [
    "import torch\n",
    "import torch.nn as nn\n",
    "from torch.nn import functional as F\n",
    "\n",
    "torch.manual_seed(1337)\n",
    "\n",
    "\n",
    "class BigramLanguageModel(nn.Module):\n",
    "    def __init__(self, vocab_size):\n",
    "        super().__init__()\n",
    "        # each token directly reads off of the logits for the nex token from a lookup table\n",
    "        self.token_embedding_table = nn.Embedding(vocab_size, vocab_size)\n",
    "\n",
    "    def forward(self, idx, targets=None):\n",
    "        # idx and targets are both (B,T) tensor or integers\n",
    "        logits = self.token_embedding_table(idx)  # (B,T,C)\n",
    "\n",
    "        if targets is None:\n",
    "            loss = None\n",
    "        else:\n",
    "            B, T, C = logits.shape\n",
    "            logits = logits.view(B * T, C)\n",
    "            targets = targets.view(B * T)\n",
    "            loss = F.cross_entropy(logits, targets)\n",
    "\n",
    "        return logits, loss\n",
    "\n",
    "    def generate(self, idx, max_new_tokens):\n",
    "        # idx is (B, T) array of indicies in the current context\n",
    "        for _ in range(max_new_tokens):\n",
    "            # get the predictions\n",
    "            logits, loss = self(idx)\n",
    "            # focus only on the last time step\n",
    "            logits = logits[:, -1, :]  # becomes (B, C)\n",
    "            # apply softmax to get probabilities\n",
    "            probs = F.softmax(logits, dim=1)\n",
    "            # sample from the distribution\n",
    "            idx_next = torch.multinomial(probs, num_samples=1) # (B, 1)\n",
    "            # append sampled index to the running sequence\n",
    "            idx = torch.cat((idx, idx_next), dim=1) # (B, T+1)\n",
    "\n",
    "        return idx\n",
    "\n",
    "\n",
    "m = BigramLanguageModel(vocab_size)\n",
    "logits, loss = m(xb, yb)\n",
    "print(logits.shape)\n",
    "print(loss)\n",
    "idx = torch.zeros((1,1), dtype=torch.long)\n",
    "print(decode(m.generate(idx, max_new_tokens=100)[0].tolist()))"
   ]
  },
  {
   "cell_type": "code",
   "execution_count": 35,
   "metadata": {},
   "outputs": [
    {
     "name": "stderr",
     "output_type": "stream",
     "text": [
      "/Users/pimpmasterguapo/Documents/github/personal_projects/whiz-ai-app/.venv/lib/python3.11/site-packages/tqdm/auto.py:21: TqdmWarning: IProgress not found. Please update jupyter and ipywidgets. See https://ipywidgets.readthedocs.io/en/stable/user_install.html\n",
      "  from .autonotebook import tqdm as notebook_tqdm\n"
     ]
    }
   ],
   "source": [
    "optimizer = torch.optim.AdamW(m.parameters(), lr=1e-3)"
   ]
  },
  {
   "cell_type": "code",
   "execution_count": 47,
   "metadata": {},
   "outputs": [
    {
     "name": "stdout",
     "output_type": "stream",
     "text": [
      "2.309919834136963\n"
     ]
    }
   ],
   "source": [
    "batch_size = 32\n",
    "for steps in range(10000):\n",
    "    xb, yb = get_batch(\"train\")\n",
    "\n",
    "    logits, loss = m(xb, yb)\n",
    "    optimizer.zero_grad(set_to_none=True)\n",
    "    loss.backward()\n",
    "    optimizer.step()\n",
    "\n",
    "print(loss.item())"
   ]
  },
  {
   "cell_type": "code",
   "execution_count": 48,
   "metadata": {},
   "outputs": [
    {
     "name": "stdout",
     "output_type": "stream",
     "text": [
      "\n",
      "10:5:221 Be, wingowie; wath.\n",
      "thily o ano An t vekntothircoweralk, or assithy An dsaileserevist, avey rcl LORD; f s\n",
      "4\n",
      "\n",
      "thahasandanofoan d m: tacim thilons.\n",
      "whe, hates an D oschy thosecrsees ie l 15:10 s, wated\n",
      "rnenthe beandal, anirathe the hed And\n",
      "\n",
      "\n",
      "\n",
      "5 putond ahaverimbengickin f.\n",
      "t oithidithof be tha\n"
     ]
    }
   ],
   "source": [
    "print(decode(m.generate(idx, max_new_tokens=100)[0].tolist()))"
   ]
  }
 ],
 "metadata": {
  "kernelspec": {
   "display_name": ".venv",
   "language": "python",
   "name": "python3"
  },
  "language_info": {
   "codemirror_mode": {
    "name": "ipython",
    "version": 3
   },
   "file_extension": ".py",
   "mimetype": "text/x-python",
   "name": "python",
   "nbconvert_exporter": "python",
   "pygments_lexer": "ipython3",
   "version": "3.11.6"
  }
 },
 "nbformat": 4,
 "nbformat_minor": 2
}
